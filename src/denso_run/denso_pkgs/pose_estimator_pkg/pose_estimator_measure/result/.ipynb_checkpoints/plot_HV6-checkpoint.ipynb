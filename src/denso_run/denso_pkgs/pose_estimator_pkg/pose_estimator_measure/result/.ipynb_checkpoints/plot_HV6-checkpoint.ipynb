{
 "cells": [
  {
   "cell_type": "code",
   "execution_count": 218,
   "metadata": {},
   "outputs": [],
   "source": [
    "import pandas as pd\n",
    "import numpy as np\n",
    "import matplotlib.pyplot as plt\n",
    "import seaborn as sns\n",
    "\n",
    "sns.set()\n",
    "sns.set_style('whitegrid')\n",
    "%matplotlib inline"
   ]
  },
  {
   "cell_type": "markdown",
   "metadata": {},
   "source": [
    "## 3DCNN HV6"
   ]
  },
  {
   "cell_type": "code",
   "execution_count": 219,
   "metadata": {},
   "outputs": [],
   "source": [
    "df_est_log = pd.read_csv(\"est_error_predision_HV6_worst.csv\", index_col=0)\n",
    "df_refine_log = pd.read_csv(\"refine_error_predision_HV6_worst.csv\", index_col=0)\n",
    "df_time_log = pd.read_csv(\"HV6_time_log.csv\", index_col=0)"
   ]
  },
  {
   "cell_type": "code",
   "execution_count": 220,
   "metadata": {},
   "outputs": [
    {
     "name": "stdout",
     "output_type": "stream",
     "text": [
      "min:preprocess_time    2.152752\n",
      "estimation_time    2.621647\n",
      "refinement_time    2.621647\n",
      "dtype: float64, max:preprocess_time    26.441813\n",
      "estimation_time    21.273851\n",
      "refinement_time    21.273851\n",
      "dtype: float64, mean:preprocess_time    18.283273\n",
      "estimation_time    15.917531\n",
      "refinement_time    15.917531\n",
      "dtype: float64\n"
     ]
    }
   ],
   "source": [
    "time_min=df_time_log.describe().min()\n",
    "time_max=df_time_log.describe().max()\n",
    "time_ave=df_time_log.describe().mean()\n",
    "print(\"min:{}, max:{}, mean:{}\".format(time_min, time_max, time_ave))"
   ]
  },
  {
   "cell_type": "code",
   "execution_count": 236,
   "metadata": {},
   "outputs": [
    {
     "data": {
      "text/html": [
       "<div>\n",
       "<style scoped>\n",
       "    .dataframe tbody tr th:only-of-type {\n",
       "        vertical-align: middle;\n",
       "    }\n",
       "\n",
       "    .dataframe tbody tr th {\n",
       "        vertical-align: top;\n",
       "    }\n",
       "\n",
       "    .dataframe thead th {\n",
       "        text-align: right;\n",
       "    }\n",
       "</style>\n",
       "<table border=\"1\" class=\"dataframe\">\n",
       "  <thead>\n",
       "    <tr style=\"text-align: right;\">\n",
       "      <th></th>\n",
       "      <th>x</th>\n",
       "      <th>y</th>\n",
       "      <th>z</th>\n",
       "      <th>roll</th>\n",
       "      <th>pitch</th>\n",
       "      <th>yaw</th>\n",
       "    </tr>\n",
       "  </thead>\n",
       "  <tbody>\n",
       "    <tr>\n",
       "      <th>count</th>\n",
       "      <td>15.000000</td>\n",
       "      <td>15.000000</td>\n",
       "      <td>15.000000</td>\n",
       "      <td>15.000000</td>\n",
       "      <td>15.000000</td>\n",
       "      <td>15.000000</td>\n",
       "    </tr>\n",
       "    <tr>\n",
       "      <th>mean</th>\n",
       "      <td>-1.534951</td>\n",
       "      <td>7.200564</td>\n",
       "      <td>-11.216329</td>\n",
       "      <td>-0.335516</td>\n",
       "      <td>2.306297</td>\n",
       "      <td>-4.839637</td>\n",
       "    </tr>\n",
       "    <tr>\n",
       "      <th>std</th>\n",
       "      <td>5.992372</td>\n",
       "      <td>3.399935</td>\n",
       "      <td>1.930230</td>\n",
       "      <td>5.231743</td>\n",
       "      <td>6.829274</td>\n",
       "      <td>22.877572</td>\n",
       "    </tr>\n",
       "    <tr>\n",
       "      <th>min</th>\n",
       "      <td>-6.790217</td>\n",
       "      <td>3.775785</td>\n",
       "      <td>-14.628437</td>\n",
       "      <td>-8.136089</td>\n",
       "      <td>-7.370513</td>\n",
       "      <td>-85.348694</td>\n",
       "    </tr>\n",
       "    <tr>\n",
       "      <th>25%</th>\n",
       "      <td>-4.549868</td>\n",
       "      <td>5.294706</td>\n",
       "      <td>-12.509780</td>\n",
       "      <td>-2.096582</td>\n",
       "      <td>0.113247</td>\n",
       "      <td>-1.412941</td>\n",
       "    </tr>\n",
       "    <tr>\n",
       "      <th>50%</th>\n",
       "      <td>-2.810894</td>\n",
       "      <td>6.106501</td>\n",
       "      <td>-10.995388</td>\n",
       "      <td>-0.775939</td>\n",
       "      <td>0.834061</td>\n",
       "      <td>-0.948938</td>\n",
       "    </tr>\n",
       "    <tr>\n",
       "      <th>75%</th>\n",
       "      <td>-1.346012</td>\n",
       "      <td>8.046623</td>\n",
       "      <td>-10.381545</td>\n",
       "      <td>-0.356263</td>\n",
       "      <td>2.519384</td>\n",
       "      <td>0.435008</td>\n",
       "    </tr>\n",
       "    <tr>\n",
       "      <th>max</th>\n",
       "      <td>18.633718</td>\n",
       "      <td>16.123630</td>\n",
       "      <td>-6.561554</td>\n",
       "      <td>17.109398</td>\n",
       "      <td>25.254581</td>\n",
       "      <td>19.262447</td>\n",
       "    </tr>\n",
       "  </tbody>\n",
       "</table>\n",
       "</div>"
      ],
      "text/plain": [
       "               x          y          z       roll      pitch        yaw\n",
       "count  15.000000  15.000000  15.000000  15.000000  15.000000  15.000000\n",
       "mean   -1.534951   7.200564 -11.216329  -0.335516   2.306297  -4.839637\n",
       "std     5.992372   3.399935   1.930230   5.231743   6.829274  22.877572\n",
       "min    -6.790217   3.775785 -14.628437  -8.136089  -7.370513 -85.348694\n",
       "25%    -4.549868   5.294706 -12.509780  -2.096582   0.113247  -1.412941\n",
       "50%    -2.810894   6.106501 -10.995388  -0.775939   0.834061  -0.948938\n",
       "75%    -1.346012   8.046623 -10.381545  -0.356263   2.519384   0.435008\n",
       "max    18.633718  16.123630  -6.561554  17.109398  25.254581  19.262447"
      ]
     },
     "execution_count": 236,
     "metadata": {},
     "output_type": "execute_result"
    }
   ],
   "source": [
    "df_est_log.describe()"
   ]
  },
  {
   "cell_type": "code",
   "execution_count": 237,
   "metadata": {},
   "outputs": [
    {
     "data": {
      "text/html": [
       "<div>\n",
       "<style scoped>\n",
       "    .dataframe tbody tr th:only-of-type {\n",
       "        vertical-align: middle;\n",
       "    }\n",
       "\n",
       "    .dataframe tbody tr th {\n",
       "        vertical-align: top;\n",
       "    }\n",
       "\n",
       "    .dataframe thead th {\n",
       "        text-align: right;\n",
       "    }\n",
       "</style>\n",
       "<table border=\"1\" class=\"dataframe\">\n",
       "  <thead>\n",
       "    <tr style=\"text-align: right;\">\n",
       "      <th></th>\n",
       "      <th>x</th>\n",
       "      <th>y</th>\n",
       "      <th>z</th>\n",
       "      <th>roll</th>\n",
       "      <th>pitch</th>\n",
       "      <th>yaw</th>\n",
       "    </tr>\n",
       "  </thead>\n",
       "  <tbody>\n",
       "    <tr>\n",
       "      <th>count</th>\n",
       "      <td>15.000000</td>\n",
       "      <td>15.000000</td>\n",
       "      <td>15.000000</td>\n",
       "      <td>15.000000</td>\n",
       "      <td>15.000000</td>\n",
       "      <td>15.000000</td>\n",
       "    </tr>\n",
       "    <tr>\n",
       "      <th>mean</th>\n",
       "      <td>0.686221</td>\n",
       "      <td>2.516620</td>\n",
       "      <td>0.686009</td>\n",
       "      <td>-0.229775</td>\n",
       "      <td>3.247633</td>\n",
       "      <td>-5.342308</td>\n",
       "    </tr>\n",
       "    <tr>\n",
       "      <th>std</th>\n",
       "      <td>2.907614</td>\n",
       "      <td>3.352624</td>\n",
       "      <td>0.406907</td>\n",
       "      <td>1.026084</td>\n",
       "      <td>0.529656</td>\n",
       "      <td>20.088975</td>\n",
       "    </tr>\n",
       "    <tr>\n",
       "      <th>min</th>\n",
       "      <td>-1.092918</td>\n",
       "      <td>-2.444313</td>\n",
       "      <td>0.103036</td>\n",
       "      <td>-2.733426</td>\n",
       "      <td>2.743687</td>\n",
       "      <td>-76.968850</td>\n",
       "    </tr>\n",
       "    <tr>\n",
       "      <th>25%</th>\n",
       "      <td>-0.098312</td>\n",
       "      <td>1.216792</td>\n",
       "      <td>0.412386</td>\n",
       "      <td>-0.200544</td>\n",
       "      <td>2.970466</td>\n",
       "      <td>-1.561972</td>\n",
       "    </tr>\n",
       "    <tr>\n",
       "      <th>50%</th>\n",
       "      <td>0.091075</td>\n",
       "      <td>1.796316</td>\n",
       "      <td>0.620851</td>\n",
       "      <td>-0.061254</td>\n",
       "      <td>3.131462</td>\n",
       "      <td>-1.090070</td>\n",
       "    </tr>\n",
       "    <tr>\n",
       "      <th>75%</th>\n",
       "      <td>0.172396</td>\n",
       "      <td>2.424655</td>\n",
       "      <td>0.927936</td>\n",
       "      <td>0.060620</td>\n",
       "      <td>3.323965</td>\n",
       "      <td>-0.662386</td>\n",
       "    </tr>\n",
       "    <tr>\n",
       "      <th>max</th>\n",
       "      <td>11.124548</td>\n",
       "      <td>10.259858</td>\n",
       "      <td>1.487754</td>\n",
       "      <td>1.877388</td>\n",
       "      <td>4.923790</td>\n",
       "      <td>11.475345</td>\n",
       "    </tr>\n",
       "  </tbody>\n",
       "</table>\n",
       "</div>"
      ],
      "text/plain": [
       "               x          y          z       roll      pitch        yaw\n",
       "count  15.000000  15.000000  15.000000  15.000000  15.000000  15.000000\n",
       "mean    0.686221   2.516620   0.686009  -0.229775   3.247633  -5.342308\n",
       "std     2.907614   3.352624   0.406907   1.026084   0.529656  20.088975\n",
       "min    -1.092918  -2.444313   0.103036  -2.733426   2.743687 -76.968850\n",
       "25%    -0.098312   1.216792   0.412386  -0.200544   2.970466  -1.561972\n",
       "50%     0.091075   1.796316   0.620851  -0.061254   3.131462  -1.090070\n",
       "75%     0.172396   2.424655   0.927936   0.060620   3.323965  -0.662386\n",
       "max    11.124548  10.259858   1.487754   1.877388   4.923790  11.475345"
      ]
     },
     "execution_count": 237,
     "metadata": {},
     "output_type": "execute_result"
    }
   ],
   "source": [
    "df_refine_log.describe()"
   ]
  },
  {
   "cell_type": "code",
   "execution_count": 239,
   "metadata": {},
   "outputs": [
    {
     "data": {
      "text/plain": [
       "<matplotlib.axes._subplots.AxesSubplot at 0x7f23afa0a250>"
      ]
     },
     "execution_count": 239,
     "metadata": {},
     "output_type": "execute_result"
    },
    {
     "data": {
      "image/png": "[encoded data removed]",
      "text/plain": [
       "<Figure size 432x288 with 1 Axes>"
      ]
     },
     "metadata": {
      "needs_background": "light"
     },
     "output_type": "display_data"
    },
    {
     "data": {
      "image/png": "[encoded data removed]",
      "text/plain": [
       "<Figure size 432x288 with 1 Axes>"
      ]
     },
     "metadata": {
      "needs_background": "light"
     },
     "output_type": "display_data"
    }
   ],
   "source": [
    "fig = plt.figure()\n",
    "ax = fig.add_subplot(1, 1, 1)\n",
    "ax.set_xlabel('Axis')\n",
    "ax.set_ylabel('Error[mm]')\n",
    "ax.legend()\n",
    "sns.boxplot(data=df_est_log[[\"x\", \"y\", \"z\"]], palette='coolwarm', ax=ax)\n",
    "\n",
    "fig = plt.figure()\n",
    "ax = fig.add_subplot(1, 1, 1)\n",
    "ax.set_xlabel('Axis')\n",
    "ax.set_ylabel('Error[degree]')\n",
    "ax.legend()\n",
    "sns.boxplot(data=df_est_log[[\"roll\", \"pitch\", \"yaw\"]], palette='coolwarm', ax=ax)"
   ]
  },
  {
   "cell_type": "code",
   "execution_count": 224,
   "metadata": {},
   "outputs": [
    {
     "data": {
      "text/plain": [
       "<matplotlib.axes._subplots.AxesSubplot at 0x7f23afc689d0>"
      ]
     },
     "execution_count": 224,
     "metadata": {},
     "output_type": "execute_result"
    },
    {
     "data": {
      "image/png": "[encoded data removed]",
      "text/plain": [
       "<Figure size 432x288 with 1 Axes>"
      ]
     },
     "metadata": {
      "needs_background": "light"
     },
     "output_type": "display_data"
    },
    {
     "data": {
      "image/png": "[encoded data removed]",
      "text/plain": [
       "<Figure size 432x288 with 1 Axes>"
      ]
     },
     "metadata": {
      "needs_background": "light"
     },
     "output_type": "display_data"
    }
   ],
   "source": [
    "fig = plt.figure()\n",
    "ax = fig.add_subplot(1, 1, 1)\n",
    "ax.set_xlabel('Axis')\n",
    "ax.set_ylabel('Error[mm]')\n",
    "#ax.set_ylim(-5, 5)\n",
    "ax.legend()\n",
    "sns.boxplot(data=df_refine_log[[\"x\", \"y\", \"z\"]], palette='coolwarm', ax=ax)\n",
    "\n",
    "fig = plt.figure()\n",
    "ax = fig.add_subplot(1, 1, 1)\n",
    "ax.set_xlabel('Axis')\n",
    "ax.set_ylabel('Error[degree]')\n",
    "#ax.set_ylim(-5, 5)\n",
    "ax.legend()\n",
    "sns.boxplot(data=df_refine_log[[\"roll\", \"pitch\", \"yaw\"]], palette='coolwarm', ax=ax)"
   ]
  },
  {
   "cell_type": "code",
   "execution_count": 240,
   "metadata": {},
   "outputs": [
    {
     "data": {
      "image/png": "[encoded data removed]",
      "text/plain": [
       "<Figure size 432x288 with 1 Axes>"
      ]
     },
     "metadata": {
      "needs_background": "light"
     },
     "output_type": "display_data"
    },
    {
     "data": {
      "image/png": "[encoded data removed]",
      "text/plain": [
       "<Figure size 432x288 with 1 Axes>"
      ]
     },
     "metadata": {
      "needs_background": "light"
     },
     "output_type": "display_data"
    }
   ],
   "source": [
    "df_est_melt_xyz = pd.melt(df_est_log[[\"x\", \"y\", \"z\"]])\n",
    "df_est_melt_xyz[\"Phase\"] = \"EST\"\n",
    "df_ref_melt_xyz = pd.melt(df_refine_log[[\"x\", \"y\", \"z\"]])\n",
    "df_ref_melt_xyz[\"Phase\"] = \"REF\"\n",
    "\n",
    "df_est_melt_rpy = pd.melt(df_est_log[[\"roll\", \"pitch\", \"yaw\"]])\n",
    "df_est_melt_rpy[\"Phase\"] = \"EST\"\n",
    "df_ref_melt_rpy = pd.melt(df_refine_log[[\"roll\", \"pitch\", \"yaw\"]])\n",
    "df_ref_melt_rpy[\"Phase\"] = \"REF\"\n",
    "\n",
    "df_cat_xyz = pd.concat([df_est_melt_xyz, df_ref_melt_xyz], axis=0)\n",
    "df_cat_rpy = pd.concat([df_est_melt_rpy, df_ref_melt_rpy], axis=0)\n",
    "\n",
    "\n",
    "fig = plt.figure()\n",
    "ax = fig.add_subplot(1, 1, 1)\n",
    "ax.legend()\n",
    "sns.boxplot(x=\"variable\", y=\"value\", data=df_cat_xyz, palette='Set2', hue=\"Phase\", ax=ax)\n",
    "ax.set_xlabel('Axis')\n",
    "ax.set_ylabel('Error[mm]')\n",
    "fig.savefig(\"HV6_xyz_3DCNN_result.png\")\n",
    "\n",
    "fig = plt.figure()\n",
    "ax = fig.add_subplot(1, 1, 1)\n",
    "ax.legend()\n",
    "sns.boxplot(x=\"variable\", y=\"value\", data=df_cat_rpy, palette='Set2', hue=\"Phase\", ax=ax)\n",
    "ax.set_xlabel('Axis')\n",
    "ax.set_ylabel('Error[degree]')\n",
    "fig.savefig(\"HV6_rpy_3DCNN_result.png\")"
   ]
  },
  {
   "cell_type": "code",
   "execution_count": null,
   "metadata": {},
   "outputs": [],
   "source": []
  }
 ],
 "metadata": {
  "kernelspec": {
   "display_name": "Python 2",
   "language": "python",
   "name": "python2"
  },
  "language_info": {
   "codemirror_mode": {
    "name": "ipython",
    "version": 2
   },
   "file_extension": ".py",
   "mimetype": "text/x-python",
   "name": "python",
   "nbconvert_exporter": "python",
   "pygments_lexer": "ipython2",
   "version": "2.7.12"
  }
 },
 "nbformat": 4,
 "nbformat_minor": 2
}
