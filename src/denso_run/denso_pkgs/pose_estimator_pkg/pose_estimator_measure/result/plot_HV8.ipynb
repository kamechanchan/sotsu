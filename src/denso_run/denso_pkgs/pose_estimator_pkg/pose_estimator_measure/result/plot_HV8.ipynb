{
 "cells": [
  {
   "cell_type": "code",
   "execution_count": 22,
   "metadata": {},
   "outputs": [],
   "source": [
    "import pandas as pd\n",
    "import numpy as np\n",
    "import matplotlib.pyplot as plt\n",
    "import seaborn as sns\n",
    "\n",
    "sns.set()\n",
    "sns.set_style('whitegrid')\n",
    "%matplotlib inline"
   ]
  },
  {
   "cell_type": "markdown",
   "metadata": {},
   "source": [
    "## 3DCNN HV8"
   ]
  },
  {
   "cell_type": "code",
   "execution_count": 23,
   "metadata": {},
   "outputs": [],
   "source": [
    "df_est_log = pd.read_csv(\"est_error_predision_HV8.csv\", index_col=0)\n",
    "df_refine_log = pd.read_csv(\"refine_error_predision_HV8.csv\", index_col=0)\n",
    "df_time_log = pd.read_csv(\"HV8_time_log.csv\", index_col=0)"
   ]
  },
  {
   "cell_type": "code",
   "execution_count": 24,
   "metadata": {},
   "outputs": [
    {
     "name": "stdout",
     "output_type": "stream",
     "text": [
      "min:preprocess_time    3.762275\n",
      "estimation_time    3.524822\n",
      "refinement_time    3.524822\n",
      "dtype: float64, max:preprocess_time    32.175064\n",
      "estimation_time    27.288914\n",
      "refinement_time    27.288914\n",
      "dtype: float64, mean:preprocess_time    22.116682\n",
      "estimation_time    16.192916\n",
      "refinement_time    16.192916\n",
      "dtype: float64\n"
     ]
    }
   ],
   "source": [
    "time_min=df_time_log.describe().min()\n",
    "time_max=df_time_log.describe().max()\n",
    "time_ave=df_time_log.describe().mean()\n",
    "print(\"min:{}, max:{}, mean:{}\".format(time_min, time_max, time_ave))"
   ]
  },
  {
   "cell_type": "code",
   "execution_count": 25,
   "metadata": {},
   "outputs": [
    {
     "data": {
      "text/html": [
       "<div>\n",
       "<style scoped>\n",
       "    .dataframe tbody tr th:only-of-type {\n",
       "        vertical-align: middle;\n",
       "    }\n",
       "\n",
       "    .dataframe tbody tr th {\n",
       "        vertical-align: top;\n",
       "    }\n",
       "\n",
       "    .dataframe thead th {\n",
       "        text-align: right;\n",
       "    }\n",
       "</style>\n",
       "<table border=\"1\" class=\"dataframe\">\n",
       "  <thead>\n",
       "    <tr style=\"text-align: right;\">\n",
       "      <th></th>\n",
       "      <th>x</th>\n",
       "      <th>y</th>\n",
       "      <th>z</th>\n",
       "      <th>roll</th>\n",
       "      <th>pitch</th>\n",
       "      <th>yaw</th>\n",
       "    </tr>\n",
       "  </thead>\n",
       "  <tbody>\n",
       "    <tr>\n",
       "      <th>count</th>\n",
       "      <td>15.000000</td>\n",
       "      <td>15.000000</td>\n",
       "      <td>15.000000</td>\n",
       "      <td>15.000000</td>\n",
       "      <td>15.000000</td>\n",
       "      <td>15.000000</td>\n",
       "    </tr>\n",
       "    <tr>\n",
       "      <th>mean</th>\n",
       "      <td>-2.021483</td>\n",
       "      <td>8.466237</td>\n",
       "      <td>-14.939256</td>\n",
       "      <td>-11.485098</td>\n",
       "      <td>4.000994</td>\n",
       "      <td>-8.323482</td>\n",
       "    </tr>\n",
       "    <tr>\n",
       "      <th>std</th>\n",
       "      <td>5.911625</td>\n",
       "      <td>2.412028</td>\n",
       "      <td>3.031782</td>\n",
       "      <td>42.707942</td>\n",
       "      <td>5.757041</td>\n",
       "      <td>30.300768</td>\n",
       "    </tr>\n",
       "    <tr>\n",
       "      <th>min</th>\n",
       "      <td>-12.438138</td>\n",
       "      <td>5.863193</td>\n",
       "      <td>-17.638828</td>\n",
       "      <td>-165.433800</td>\n",
       "      <td>-1.516647</td>\n",
       "      <td>-116.290210</td>\n",
       "    </tr>\n",
       "    <tr>\n",
       "      <th>25%</th>\n",
       "      <td>-4.079942</td>\n",
       "      <td>6.821466</td>\n",
       "      <td>-16.750778</td>\n",
       "      <td>-0.908550</td>\n",
       "      <td>1.174501</td>\n",
       "      <td>-2.957961</td>\n",
       "    </tr>\n",
       "    <tr>\n",
       "      <th>50%</th>\n",
       "      <td>-2.386318</td>\n",
       "      <td>7.930686</td>\n",
       "      <td>-16.125463</td>\n",
       "      <td>-0.591359</td>\n",
       "      <td>2.859132</td>\n",
       "      <td>-1.146904</td>\n",
       "    </tr>\n",
       "    <tr>\n",
       "      <th>75%</th>\n",
       "      <td>-0.474671</td>\n",
       "      <td>8.598617</td>\n",
       "      <td>-13.864896</td>\n",
       "      <td>0.561402</td>\n",
       "      <td>3.265815</td>\n",
       "      <td>2.047462</td>\n",
       "    </tr>\n",
       "    <tr>\n",
       "      <th>max</th>\n",
       "      <td>13.098718</td>\n",
       "      <td>15.100346</td>\n",
       "      <td>-5.846716</td>\n",
       "      <td>5.106292</td>\n",
       "      <td>19.604813</td>\n",
       "      <td>7.842887</td>\n",
       "    </tr>\n",
       "  </tbody>\n",
       "</table>\n",
       "</div>"
      ],
      "text/plain": [
       "               x          y          z        roll      pitch         yaw\n",
       "count  15.000000  15.000000  15.000000   15.000000  15.000000   15.000000\n",
       "mean   -2.021483   8.466237 -14.939256  -11.485098   4.000994   -8.323482\n",
       "std     5.911625   2.412028   3.031782   42.707942   5.757041   30.300768\n",
       "min   -12.438138   5.863193 -17.638828 -165.433800  -1.516647 -116.290210\n",
       "25%    -4.079942   6.821466 -16.750778   -0.908550   1.174501   -2.957961\n",
       "50%    -2.386318   7.930686 -16.125463   -0.591359   2.859132   -1.146904\n",
       "75%    -0.474671   8.598617 -13.864896    0.561402   3.265815    2.047462\n",
       "max    13.098718  15.100346  -5.846716    5.106292  19.604813    7.842887"
      ]
     },
     "execution_count": 25,
     "metadata": {},
     "output_type": "execute_result"
    }
   ],
   "source": [
    "df_est_log.describe()"
   ]
  },
  {
   "cell_type": "code",
   "execution_count": 26,
   "metadata": {},
   "outputs": [
    {
     "data": {
      "text/html": [
       "<div>\n",
       "<style scoped>\n",
       "    .dataframe tbody tr th:only-of-type {\n",
       "        vertical-align: middle;\n",
       "    }\n",
       "\n",
       "    .dataframe tbody tr th {\n",
       "        vertical-align: top;\n",
       "    }\n",
       "\n",
       "    .dataframe thead th {\n",
       "        text-align: right;\n",
       "    }\n",
       "</style>\n",
       "<table border=\"1\" class=\"dataframe\">\n",
       "  <thead>\n",
       "    <tr style=\"text-align: right;\">\n",
       "      <th></th>\n",
       "      <th>x</th>\n",
       "      <th>y</th>\n",
       "      <th>z</th>\n",
       "      <th>roll</th>\n",
       "      <th>pitch</th>\n",
       "      <th>yaw</th>\n",
       "    </tr>\n",
       "  </thead>\n",
       "  <tbody>\n",
       "    <tr>\n",
       "      <th>count</th>\n",
       "      <td>15.000000</td>\n",
       "      <td>15.000000</td>\n",
       "      <td>15.000000</td>\n",
       "      <td>15.000000</td>\n",
       "      <td>15.000000</td>\n",
       "      <td>15.000000</td>\n",
       "    </tr>\n",
       "    <tr>\n",
       "      <th>mean</th>\n",
       "      <td>-0.041975</td>\n",
       "      <td>0.804858</td>\n",
       "      <td>0.603137</td>\n",
       "      <td>11.398380</td>\n",
       "      <td>1.438514</td>\n",
       "      <td>-8.435453</td>\n",
       "    </tr>\n",
       "    <tr>\n",
       "      <th>std</th>\n",
       "      <td>0.515637</td>\n",
       "      <td>0.383281</td>\n",
       "      <td>2.475794</td>\n",
       "      <td>46.209243</td>\n",
       "      <td>0.513808</td>\n",
       "      <td>30.730026</td>\n",
       "    </tr>\n",
       "    <tr>\n",
       "      <th>min</th>\n",
       "      <td>-1.208443</td>\n",
       "      <td>0.276205</td>\n",
       "      <td>-0.507189</td>\n",
       "      <td>-1.170665</td>\n",
       "      <td>-0.272448</td>\n",
       "      <td>-118.395740</td>\n",
       "    </tr>\n",
       "    <tr>\n",
       "      <th>25%</th>\n",
       "      <td>-0.329471</td>\n",
       "      <td>0.657691</td>\n",
       "      <td>-0.179442</td>\n",
       "      <td>-0.622872</td>\n",
       "      <td>1.434987</td>\n",
       "      <td>-2.814571</td>\n",
       "    </tr>\n",
       "    <tr>\n",
       "      <th>50%</th>\n",
       "      <td>-0.102805</td>\n",
       "      <td>0.693606</td>\n",
       "      <td>-0.053286</td>\n",
       "      <td>-0.517698</td>\n",
       "      <td>1.496298</td>\n",
       "      <td>-0.877738</td>\n",
       "    </tr>\n",
       "    <tr>\n",
       "      <th>75%</th>\n",
       "      <td>0.185015</td>\n",
       "      <td>0.967348</td>\n",
       "      <td>0.230399</td>\n",
       "      <td>-0.423633</td>\n",
       "      <td>1.617021</td>\n",
       "      <td>0.924296</td>\n",
       "    </tr>\n",
       "    <tr>\n",
       "      <th>max</th>\n",
       "      <td>1.149895</td>\n",
       "      <td>1.906253</td>\n",
       "      <td>9.497544</td>\n",
       "      <td>178.431920</td>\n",
       "      <td>2.018869</td>\n",
       "      <td>7.423965</td>\n",
       "    </tr>\n",
       "  </tbody>\n",
       "</table>\n",
       "</div>"
      ],
      "text/plain": [
       "               x          y          z        roll      pitch         yaw\n",
       "count  15.000000  15.000000  15.000000   15.000000  15.000000   15.000000\n",
       "mean   -0.041975   0.804858   0.603137   11.398380   1.438514   -8.435453\n",
       "std     0.515637   0.383281   2.475794   46.209243   0.513808   30.730026\n",
       "min    -1.208443   0.276205  -0.507189   -1.170665  -0.272448 -118.395740\n",
       "25%    -0.329471   0.657691  -0.179442   -0.622872   1.434987   -2.814571\n",
       "50%    -0.102805   0.693606  -0.053286   -0.517698   1.496298   -0.877738\n",
       "75%     0.185015   0.967348   0.230399   -0.423633   1.617021    0.924296\n",
       "max     1.149895   1.906253   9.497544  178.431920   2.018869    7.423965"
      ]
     },
     "execution_count": 26,
     "metadata": {},
     "output_type": "execute_result"
    }
   ],
   "source": [
    "df_refine_log.describe()"
   ]
  },
  {
   "cell_type": "code",
   "execution_count": 27,
   "metadata": {},
   "outputs": [
    {
     "data": {
      "text/plain": [
       "<matplotlib.axes._subplots.AxesSubplot at 0x7f9db465e3d0>"
      ]
     },
     "execution_count": 27,
     "metadata": {},
     "output_type": "execute_result"
    },
    {
     "data": {
      "image/png": "[encoded data removed]",
      "text/plain": [
       "<Figure size 432x288 with 1 Axes>"
      ]
     },
     "metadata": {
      "needs_background": "light"
     },
     "output_type": "display_data"
    },
    {
     "data": {
      "image/png": "[encoded data removed]",
      "text/plain": [
       "<Figure size 432x288 with 1 Axes>"
      ]
     },
     "metadata": {
      "needs_background": "light"
     },
     "output_type": "display_data"
    }
   ],
   "source": [
    "fig = plt.figure()\n",
    "ax = fig.add_subplot(1, 1, 1)\n",
    "ax.set_xlabel('Axis')\n",
    "ax.set_ylabel('Error[mm]')\n",
    "ax.legend()\n",
    "sns.boxplot(data=df_est_log[[\"x\", \"y\", \"z\"]], palette='coolwarm', ax=ax)\n",
    "\n",
    "fig = plt.figure()\n",
    "ax = fig.add_subplot(1, 1, 1)\n",
    "ax.set_xlabel('Axis')\n",
    "ax.set_ylabel('Error[degree]')\n",
    "ax.legend()\n",
    "sns.boxplot(data=df_est_log[[\"roll\", \"pitch\", \"yaw\"]], palette='coolwarm', ax=ax)"
   ]
  },
  {
   "cell_type": "code",
   "execution_count": 28,
   "metadata": {},
   "outputs": [
    {
     "data": {
      "text/plain": [
       "<matplotlib.axes._subplots.AxesSubplot at 0x7f9d7f227f90>"
      ]
     },
     "execution_count": 28,
     "metadata": {},
     "output_type": "execute_result"
    },
    {
     "data": {
      "image/png": "[encoded data removed]",
      "text/plain": [
       "<Figure size 432x288 with 1 Axes>"
      ]
     },
     "metadata": {
      "needs_background": "light"
     },
     "output_type": "display_data"
    },
    {
     "data": {
      "image/png": "[encoded data removed]",
      "text/plain": [
       "<Figure size 432x288 with 1 Axes>"
      ]
     },
     "metadata": {
      "needs_background": "light"
     },
     "output_type": "display_data"
    }
   ],
   "source": [
    "fig = plt.figure()\n",
    "ax = fig.add_subplot(1, 1, 1)\n",
    "ax.set_xlabel('Axis')\n",
    "ax.set_ylabel('Error[mm]')\n",
    "#ax.set_ylim(-5, 5)\n",
    "ax.legend()\n",
    "sns.boxplot(data=df_refine_log[[\"x\", \"y\", \"z\"]], palette='coolwarm', ax=ax)\n",
    "\n",
    "\n",
    "fig = plt.figure()\n",
    "ax = fig.add_subplot(1, 1, 1)\n",
    "ax.set_xlabel('Axis')\n",
    "ax.set_ylabel('Error[degree]')\n",
    "#ax.set_ylim(-5, 5)\n",
    "ax.legend()\n",
    "sns.boxplot(data=df_refine_log[[\"roll\", \"pitch\", \"yaw\"]], palette='coolwarm', ax=ax)"
   ]
  },
  {
   "cell_type": "code",
   "execution_count": 31,
   "metadata": {},
   "outputs": [
    {
     "data": {
      "image/png": "[encoded data removed]",
      "text/plain": [
       "<Figure size 432x288 with 1 Axes>"
      ]
     },
     "metadata": {
      "needs_background": "light"
     },
     "output_type": "display_data"
    },
    {
     "data": {
      "image/png": "[encoded data removed]",
      "text/plain": [
       "<Figure size 432x288 with 1 Axes>"
      ]
     },
     "metadata": {
      "needs_background": "light"
     },
     "output_type": "display_data"
    }
   ],
   "source": [
    "df_est_melt_xyz = pd.melt(df_est_log[[\"x\", \"y\", \"z\"]])\n",
    "df_est_melt_xyz[\"Phase\"] = \"EST\"\n",
    "df_ref_melt_xyz = pd.melt(df_refine_log[[\"x\", \"y\", \"z\"]])\n",
    "df_ref_melt_xyz[\"Phase\"] = \"REF\"\n",
    "\n",
    "df_est_melt_rpy = pd.melt(df_est_log[[\"roll\", \"pitch\", \"yaw\"]])\n",
    "df_est_melt_rpy[\"Phase\"] = \"EST\"\n",
    "df_ref_melt_rpy = pd.melt(df_refine_log[[\"roll\", \"pitch\", \"yaw\"]])\n",
    "df_ref_melt_rpy[\"Phase\"] = \"REF\"\n",
    "\n",
    "df_cat_xyz = pd.concat([df_est_melt_xyz, df_ref_melt_xyz], axis=0)\n",
    "df_cat_rpy = pd.concat([df_est_melt_rpy, df_ref_melt_rpy], axis=0)\n",
    "\n",
    "\n",
    "fig = plt.figure()\n",
    "ax = fig.add_subplot(1, 1, 1)\n",
    "ax.legend()\n",
    "sns.boxplot(x=\"variable\", y=\"value\", data=df_cat_xyz, palette='Set2', hue=\"Phase\", ax=ax)\n",
    "ax.set_xlabel('Axis')\n",
    "ax.set_ylabel('Error[mm]')\n",
    "fig.savefig(\"HV8_xyz_3DCNN_result.png\")\n",
    "\n",
    "\n",
    "fig = plt.figure()\n",
    "ax = fig.add_subplot(1, 1, 1)\n",
    "ax.legend()\n",
    "sns.boxplot(x=\"variable\", y=\"value\", data=df_cat_rpy, palette='Set2', hue=\"Phase\", ax=ax)\n",
    "ax.set_xlabel('Axis')\n",
    "ax.set_ylabel('Error[degree]')\n",
    "fig.savefig(\"HV8_rpy_3DCNN_result.png\")"
   ]
  },
  {
   "cell_type": "code",
   "execution_count": null,
   "metadata": {},
   "outputs": [],
   "source": []
  }
 ],
 "metadata": {
  "kernelspec": {
   "display_name": "Python 2",
   "language": "python",
   "name": "python2"
  },
  "language_info": {
   "codemirror_mode": {
    "name": "ipython",
    "version": 2
   },
   "file_extension": ".py",
   "mimetype": "text/x-python",
   "name": "python",
   "nbconvert_exporter": "python",
   "pygments_lexer": "ipython2",
   "version": "2.7.12"
  }
 },
 "nbformat": 4,
 "nbformat_minor": 2
}
