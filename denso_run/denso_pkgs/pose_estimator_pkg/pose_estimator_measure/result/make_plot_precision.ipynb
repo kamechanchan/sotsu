{
 "cells": [
  {
   "cell_type": "code",
   "execution_count": 3,
   "metadata": {},
   "outputs": [],
   "source": [
    "import pandas as pd\n",
    "import numpy as np\n",
    "import matplotlib.pyplot as plt\n",
    "import seaborn as sns\n",
    "\n",
    "sns.set()\n",
    "sns.set_style('whitegrid')\n",
    "sns.set_style(style=None, rc=None)\n",
    "sns.set_palette('Set3')"
   ]
  },
  {
   "cell_type": "code",
   "execution_count": 4,
   "metadata": {},
   "outputs": [],
   "source": [
    "df_est_log = pd.read_csv(\"est_error_predision.csv\")\n",
    "df_refine_log = pd.read_csv(\"refine_error_predision.csv\")"
   ]
  },
  {
   "cell_type": "code",
   "execution_count": 5,
   "metadata": {},
   "outputs": [
    {
     "data": {
      "text/html": [
       "<div>\n",
       "<style scoped>\n",
       "    .dataframe tbody tr th:only-of-type {\n",
       "        vertical-align: middle;\n",
       "    }\n",
       "\n",
       "    .dataframe tbody tr th {\n",
       "        vertical-align: top;\n",
       "    }\n",
       "\n",
       "    .dataframe thead th {\n",
       "        text-align: right;\n",
       "    }\n",
       "</style>\n",
       "<table border=\"1\" class=\"dataframe\">\n",
       "  <thead>\n",
       "    <tr style=\"text-align: right;\">\n",
       "      <th></th>\n",
       "      <th>Unnamed: 0</th>\n",
       "      <th>x</th>\n",
       "      <th>y</th>\n",
       "      <th>z</th>\n",
       "      <th>roll</th>\n",
       "      <th>pitch</th>\n",
       "      <th>yaw</th>\n",
       "    </tr>\n",
       "  </thead>\n",
       "  <tbody>\n",
       "    <tr>\n",
       "      <th>count</th>\n",
       "      <td>20.00000</td>\n",
       "      <td>15.000000</td>\n",
       "      <td>15.000000</td>\n",
       "      <td>15.000000</td>\n",
       "      <td>15.000000</td>\n",
       "      <td>15.000000</td>\n",
       "      <td>15.000000</td>\n",
       "    </tr>\n",
       "    <tr>\n",
       "      <th>mean</th>\n",
       "      <td>9.50000</td>\n",
       "      <td>-2.021483</td>\n",
       "      <td>8.466237</td>\n",
       "      <td>-14.939256</td>\n",
       "      <td>-11.485098</td>\n",
       "      <td>4.000994</td>\n",
       "      <td>-8.323482</td>\n",
       "    </tr>\n",
       "    <tr>\n",
       "      <th>std</th>\n",
       "      <td>5.91608</td>\n",
       "      <td>5.911625</td>\n",
       "      <td>2.412028</td>\n",
       "      <td>3.031782</td>\n",
       "      <td>42.707942</td>\n",
       "      <td>5.757041</td>\n",
       "      <td>30.300768</td>\n",
       "    </tr>\n",
       "    <tr>\n",
       "      <th>min</th>\n",
       "      <td>0.00000</td>\n",
       "      <td>-12.438138</td>\n",
       "      <td>5.863193</td>\n",
       "      <td>-17.638828</td>\n",
       "      <td>-165.433800</td>\n",
       "      <td>-1.516647</td>\n",
       "      <td>-116.290210</td>\n",
       "    </tr>\n",
       "    <tr>\n",
       "      <th>25%</th>\n",
       "      <td>4.75000</td>\n",
       "      <td>-4.079942</td>\n",
       "      <td>6.821466</td>\n",
       "      <td>-16.750778</td>\n",
       "      <td>-0.908550</td>\n",
       "      <td>1.174501</td>\n",
       "      <td>-2.957961</td>\n",
       "    </tr>\n",
       "    <tr>\n",
       "      <th>50%</th>\n",
       "      <td>9.50000</td>\n",
       "      <td>-2.386318</td>\n",
       "      <td>7.930686</td>\n",
       "      <td>-16.125463</td>\n",
       "      <td>-0.591359</td>\n",
       "      <td>2.859132</td>\n",
       "      <td>-1.146904</td>\n",
       "    </tr>\n",
       "    <tr>\n",
       "      <th>75%</th>\n",
       "      <td>14.25000</td>\n",
       "      <td>-0.474671</td>\n",
       "      <td>8.598617</td>\n",
       "      <td>-13.864896</td>\n",
       "      <td>0.561402</td>\n",
       "      <td>3.265815</td>\n",
       "      <td>2.047462</td>\n",
       "    </tr>\n",
       "    <tr>\n",
       "      <th>max</th>\n",
       "      <td>19.00000</td>\n",
       "      <td>13.098718</td>\n",
       "      <td>15.100346</td>\n",
       "      <td>-5.846716</td>\n",
       "      <td>5.106292</td>\n",
       "      <td>19.604813</td>\n",
       "      <td>7.842887</td>\n",
       "    </tr>\n",
       "  </tbody>\n",
       "</table>\n",
       "</div>"
      ],
      "text/plain": [
       "       Unnamed: 0          x          y          z        roll      pitch  \\\n",
       "count    20.00000  15.000000  15.000000  15.000000   15.000000  15.000000   \n",
       "mean      9.50000  -2.021483   8.466237 -14.939256  -11.485098   4.000994   \n",
       "std       5.91608   5.911625   2.412028   3.031782   42.707942   5.757041   \n",
       "min       0.00000 -12.438138   5.863193 -17.638828 -165.433800  -1.516647   \n",
       "25%       4.75000  -4.079942   6.821466 -16.750778   -0.908550   1.174501   \n",
       "50%       9.50000  -2.386318   7.930686 -16.125463   -0.591359   2.859132   \n",
       "75%      14.25000  -0.474671   8.598617 -13.864896    0.561402   3.265815   \n",
       "max      19.00000  13.098718  15.100346  -5.846716    5.106292  19.604813   \n",
       "\n",
       "              yaw  \n",
       "count   15.000000  \n",
       "mean    -8.323482  \n",
       "std     30.300768  \n",
       "min   -116.290210  \n",
       "25%     -2.957961  \n",
       "50%     -1.146904  \n",
       "75%      2.047462  \n",
       "max      7.842887  "
      ]
     },
     "execution_count": 5,
     "metadata": {},
     "output_type": "execute_result"
    }
   ],
   "source": [
    "df_est_log.describe()"
   ]
  },
  {
   "cell_type": "code",
   "execution_count": 6,
   "metadata": {},
   "outputs": [
    {
     "data": {
      "text/html": [
       "<div>\n",
       "<style scoped>\n",
       "    .dataframe tbody tr th:only-of-type {\n",
       "        vertical-align: middle;\n",
       "    }\n",
       "\n",
       "    .dataframe tbody tr th {\n",
       "        vertical-align: top;\n",
       "    }\n",
       "\n",
       "    .dataframe thead th {\n",
       "        text-align: right;\n",
       "    }\n",
       "</style>\n",
       "<table border=\"1\" class=\"dataframe\">\n",
       "  <thead>\n",
       "    <tr style=\"text-align: right;\">\n",
       "      <th></th>\n",
       "      <th>Unnamed: 0</th>\n",
       "      <th>x</th>\n",
       "      <th>y</th>\n",
       "      <th>z</th>\n",
       "      <th>roll</th>\n",
       "      <th>pitch</th>\n",
       "      <th>yaw</th>\n",
       "    </tr>\n",
       "  </thead>\n",
       "  <tbody>\n",
       "    <tr>\n",
       "      <th>count</th>\n",
       "      <td>20.00000</td>\n",
       "      <td>15.000000</td>\n",
       "      <td>15.000000</td>\n",
       "      <td>15.000000</td>\n",
       "      <td>15.000000</td>\n",
       "      <td>15.000000</td>\n",
       "      <td>15.000000</td>\n",
       "    </tr>\n",
       "    <tr>\n",
       "      <th>mean</th>\n",
       "      <td>9.50000</td>\n",
       "      <td>-0.041975</td>\n",
       "      <td>0.804858</td>\n",
       "      <td>0.603137</td>\n",
       "      <td>11.398380</td>\n",
       "      <td>1.438514</td>\n",
       "      <td>-8.435453</td>\n",
       "    </tr>\n",
       "    <tr>\n",
       "      <th>std</th>\n",
       "      <td>5.91608</td>\n",
       "      <td>0.515637</td>\n",
       "      <td>0.383281</td>\n",
       "      <td>2.475794</td>\n",
       "      <td>46.209243</td>\n",
       "      <td>0.513808</td>\n",
       "      <td>30.730026</td>\n",
       "    </tr>\n",
       "    <tr>\n",
       "      <th>min</th>\n",
       "      <td>0.00000</td>\n",
       "      <td>-1.208443</td>\n",
       "      <td>0.276205</td>\n",
       "      <td>-0.507189</td>\n",
       "      <td>-1.170665</td>\n",
       "      <td>-0.272448</td>\n",
       "      <td>-118.395740</td>\n",
       "    </tr>\n",
       "    <tr>\n",
       "      <th>25%</th>\n",
       "      <td>4.75000</td>\n",
       "      <td>-0.329471</td>\n",
       "      <td>0.657691</td>\n",
       "      <td>-0.179442</td>\n",
       "      <td>-0.622872</td>\n",
       "      <td>1.434987</td>\n",
       "      <td>-2.814571</td>\n",
       "    </tr>\n",
       "    <tr>\n",
       "      <th>50%</th>\n",
       "      <td>9.50000</td>\n",
       "      <td>-0.102805</td>\n",
       "      <td>0.693606</td>\n",
       "      <td>-0.053286</td>\n",
       "      <td>-0.517698</td>\n",
       "      <td>1.496298</td>\n",
       "      <td>-0.877738</td>\n",
       "    </tr>\n",
       "    <tr>\n",
       "      <th>75%</th>\n",
       "      <td>14.25000</td>\n",
       "      <td>0.185015</td>\n",
       "      <td>0.967348</td>\n",
       "      <td>0.230399</td>\n",
       "      <td>-0.423633</td>\n",
       "      <td>1.617021</td>\n",
       "      <td>0.924296</td>\n",
       "    </tr>\n",
       "    <tr>\n",
       "      <th>max</th>\n",
       "      <td>19.00000</td>\n",
       "      <td>1.149895</td>\n",
       "      <td>1.906253</td>\n",
       "      <td>9.497544</td>\n",
       "      <td>178.431920</td>\n",
       "      <td>2.018869</td>\n",
       "      <td>7.423965</td>\n",
       "    </tr>\n",
       "  </tbody>\n",
       "</table>\n",
       "</div>"
      ],
      "text/plain": [
       "       Unnamed: 0          x          y          z        roll      pitch  \\\n",
       "count    20.00000  15.000000  15.000000  15.000000   15.000000  15.000000   \n",
       "mean      9.50000  -0.041975   0.804858   0.603137   11.398380   1.438514   \n",
       "std       5.91608   0.515637   0.383281   2.475794   46.209243   0.513808   \n",
       "min       0.00000  -1.208443   0.276205  -0.507189   -1.170665  -0.272448   \n",
       "25%       4.75000  -0.329471   0.657691  -0.179442   -0.622872   1.434987   \n",
       "50%       9.50000  -0.102805   0.693606  -0.053286   -0.517698   1.496298   \n",
       "75%      14.25000   0.185015   0.967348   0.230399   -0.423633   1.617021   \n",
       "max      19.00000   1.149895   1.906253   9.497544  178.431920   2.018869   \n",
       "\n",
       "              yaw  \n",
       "count   15.000000  \n",
       "mean    -8.435453  \n",
       "std     30.730026  \n",
       "min   -118.395740  \n",
       "25%     -2.814571  \n",
       "50%     -0.877738  \n",
       "75%      0.924296  \n",
       "max      7.423965  "
      ]
     },
     "execution_count": 6,
     "metadata": {},
     "output_type": "execute_result"
    }
   ],
   "source": [
    "df_refine_log.describe()"
   ]
  },
  {
   "cell_type": "code",
   "execution_count": 11,
   "metadata": {},
   "outputs": [
    {
     "data": {
      "text/plain": [
       "<matplotlib.axes._subplots.AxesSubplot at 0x7f5b8c5c1f90>"
      ]
     },
     "execution_count": 11,
     "metadata": {},
     "output_type": "execute_result"
    },
    {
     "data": {
      "image/png": "[encoded data removed]",
      "text/plain": [
       "<Figure size 432x288 with 1 Axes>"
      ]
     },
     "metadata": {
      "needs_background": "light"
     },
     "output_type": "display_data"
    },
    {
     "data": {
      "image/png": "[encoded data removed]",
      "text/plain": [
       "<Figure size 432x288 with 1 Axes>"
      ]
     },
     "metadata": {
      "needs_background": "light"
     },
     "output_type": "display_data"
    }
   ],
   "source": [
    "fig = plt.figure()\n",
    "ax = fig.add_subplot(1, 1, 1)\n",
    "ax.set_xlabel('Axis')\n",
    "ax.set_ylabel('Error[mm]')\n",
    "ax.legend()\n",
    "sns.boxplot(data=df_est_log[[\"x\", \"y\", \"z\"]], palette='coolwarm', ax=ax)\n",
    "\n",
    "fig = plt.figure()\n",
    "ax = fig.add_subplot(1, 1, 1)\n",
    "ax.set_xlabel('Axis')\n",
    "ax.set_ylabel('Degree[mm]')\n",
    "ax.legend()\n",
    "sns.boxplot(data=df_est_log[[\"roll\", \"pitch\", \"yaw\"]], palette='coolwarm', ax=ax)"
   ]
  },
  {
   "cell_type": "code",
   "execution_count": 12,
   "metadata": {},
   "outputs": [
    {
     "data": {
      "text/plain": [
       "<matplotlib.axes._subplots.AxesSubplot at 0x7f5b8c564190>"
      ]
     },
     "execution_count": 12,
     "metadata": {},
     "output_type": "execute_result"
    },
    {
     "data": {
      "image/png": "[encoded data removed]",
      "text/plain": [
       "<Figure size 432x288 with 1 Axes>"
      ]
     },
     "metadata": {
      "needs_background": "light"
     },
     "output_type": "display_data"
    },
    {
     "data": {
      "image/png": "[encoded data removed]",
      "text/plain": [
       "<Figure size 432x288 with 1 Axes>"
      ]
     },
     "metadata": {
      "needs_background": "light"
     },
     "output_type": "display_data"
    }
   ],
   "source": [
    "fig = plt.figure()\n",
    "ax = fig.add_subplot(1, 1, 1)\n",
    "ax.set_xlabel('Axis')\n",
    "ax.set_ylabel('Error[mm]')\n",
    "#ax.set_ylim(-5, 5)\n",
    "ax.legend()\n",
    "sns.boxplot(data=df_refine_log[[\"x\", \"y\", \"z\"]], palette='Dark2', ax=ax)\n",
    "\n",
    "fig = plt.figure()\n",
    "ax = fig.add_subplot(1, 1, 1)\n",
    "ax.set_xlabel('Axis')\n",
    "ax.set_ylabel('Error[degree]')\n",
    "#ax.set_ylim(-5, 5)\n",
    "ax.legend()\n",
    "sns.boxplot(data=df_refine_log[[\"roll\", \"pitch\", \"yaw\"]], palette='Dark2', ax=ax)"
   ]
  },
  {
   "cell_type": "code",
   "execution_count": 9,
   "metadata": {},
   "outputs": [
    {
     "data": {
      "text/html": [
       "<div>\n",
       "<style scoped>\n",
       "    .dataframe tbody tr th:only-of-type {\n",
       "        vertical-align: middle;\n",
       "    }\n",
       "\n",
       "    .dataframe tbody tr th {\n",
       "        vertical-align: top;\n",
       "    }\n",
       "\n",
       "    .dataframe thead th {\n",
       "        text-align: right;\n",
       "    }\n",
       "</style>\n",
       "<table border=\"1\" class=\"dataframe\">\n",
       "  <thead>\n",
       "    <tr style=\"text-align: right;\">\n",
       "      <th></th>\n",
       "      <th>x</th>\n",
       "      <th>y</th>\n",
       "      <th>z</th>\n",
       "    </tr>\n",
       "  </thead>\n",
       "  <tbody>\n",
       "    <tr>\n",
       "      <th>0</th>\n",
       "      <td>13.098718</td>\n",
       "      <td>15.100346</td>\n",
       "      <td>-5.846716</td>\n",
       "    </tr>\n",
       "    <tr>\n",
       "      <th>1</th>\n",
       "      <td>-1.677121</td>\n",
       "      <td>6.433388</td>\n",
       "      <td>-16.195206</td>\n",
       "    </tr>\n",
       "    <tr>\n",
       "      <th>2</th>\n",
       "      <td>-2.250279</td>\n",
       "      <td>8.326626</td>\n",
       "      <td>-16.432272</td>\n",
       "    </tr>\n",
       "    <tr>\n",
       "      <th>3</th>\n",
       "      <td>-0.224254</td>\n",
       "      <td>11.094724</td>\n",
       "      <td>-15.747935</td>\n",
       "    </tr>\n",
       "    <tr>\n",
       "      <th>4</th>\n",
       "      <td>-4.551335</td>\n",
       "      <td>11.412725</td>\n",
       "      <td>-13.612004</td>\n",
       "    </tr>\n",
       "  </tbody>\n",
       "</table>\n",
       "</div>"
      ],
      "text/plain": [
       "           x          y          z\n",
       "0  13.098718  15.100346  -5.846716\n",
       "1  -1.677121   6.433388 -16.195206\n",
       "2  -2.250279   8.326626 -16.432272\n",
       "3  -0.224254  11.094724 -15.747935\n",
       "4  -4.551335  11.412725 -13.612004"
      ]
     },
     "execution_count": 9,
     "metadata": {},
     "output_type": "execute_result"
    }
   ],
   "source": [
    "df_est_log['value'] = 'Without ICP'\n",
    "df_refine_log['value'] = 'With ICP'\n",
    "df_cat = pd.concat([df_est_log[[\"x\", \"y\", \"z\"]], df_refine_log[[\"x\", \"y\", \"z\"]]])\n",
    "df_cat.head()"
   ]
  },
  {
   "cell_type": "code",
   "execution_count": 10,
   "metadata": {},
   "outputs": [
    {
     "ename": "ValueError",
     "evalue": "Cannot use `hue` without `x` or `y`",
     "output_type": "error",
     "traceback": [
      "\u001b[0;31m---------------------------------------------------------------------------\u001b[0m",
      "\u001b[0;31mValueError\u001b[0m                                Traceback (most recent call last)",
      "\u001b[0;32m<ipython-input-10-142991547506>\u001b[0m in \u001b[0;36m<module>\u001b[0;34m()\u001b[0m\n\u001b[1;32m      5\u001b[0m \u001b[0max\u001b[0m\u001b[0;34m.\u001b[0m\u001b[0mset_ylim\u001b[0m\u001b[0;34m(\u001b[0m\u001b[0;34m-\u001b[0m\u001b[0;36m10\u001b[0m\u001b[0;34m,\u001b[0m \u001b[0;36m10\u001b[0m\u001b[0;34m)\u001b[0m\u001b[0;34m\u001b[0m\u001b[0m\n\u001b[1;32m      6\u001b[0m \u001b[0max\u001b[0m\u001b[0;34m.\u001b[0m\u001b[0mlegend\u001b[0m\u001b[0;34m(\u001b[0m\u001b[0;34m)\u001b[0m\u001b[0;34m\u001b[0m\u001b[0m\n\u001b[0;32m----> 7\u001b[0;31m \u001b[0msns\u001b[0m\u001b[0;34m.\u001b[0m\u001b[0mboxplot\u001b[0m\u001b[0;34m(\u001b[0m\u001b[0mdata\u001b[0m\u001b[0;34m=\u001b[0m\u001b[0mdf_cat\u001b[0m\u001b[0;34m,\u001b[0m \u001b[0mshowfliers\u001b[0m\u001b[0;34m=\u001b[0m\u001b[0mFalse\u001b[0m\u001b[0;34m,\u001b[0m \u001b[0mpalette\u001b[0m\u001b[0;34m=\u001b[0m\u001b[0;34m'Dark2'\u001b[0m\u001b[0;34m,\u001b[0m \u001b[0mhue\u001b[0m\u001b[0;34m=\u001b[0m\u001b[0;34m\"value\"\u001b[0m\u001b[0;34m,\u001b[0m \u001b[0max\u001b[0m\u001b[0;34m=\u001b[0m\u001b[0max\u001b[0m\u001b[0;34m)\u001b[0m\u001b[0;34m\u001b[0m\u001b[0m\n\u001b[0m",
      "\u001b[0;32m/home/nishidalab/.local/lib/python2.7/site-packages/seaborn/categorical.pyc\u001b[0m in \u001b[0;36mboxplot\u001b[0;34m(x, y, hue, data, order, hue_order, orient, color, palette, saturation, width, dodge, fliersize, linewidth, whis, ax, **kwargs)\u001b[0m\n\u001b[1;32m   2242\u001b[0m     plotter = _BoxPlotter(x, y, hue, data, order, hue_order,\n\u001b[1;32m   2243\u001b[0m                           \u001b[0morient\u001b[0m\u001b[0;34m,\u001b[0m \u001b[0mcolor\u001b[0m\u001b[0;34m,\u001b[0m \u001b[0mpalette\u001b[0m\u001b[0;34m,\u001b[0m \u001b[0msaturation\u001b[0m\u001b[0;34m,\u001b[0m\u001b[0;34m\u001b[0m\u001b[0m\n\u001b[0;32m-> 2244\u001b[0;31m                           width, dodge, fliersize, linewidth)\n\u001b[0m\u001b[1;32m   2245\u001b[0m \u001b[0;34m\u001b[0m\u001b[0m\n\u001b[1;32m   2246\u001b[0m     \u001b[0;32mif\u001b[0m \u001b[0max\u001b[0m \u001b[0;32mis\u001b[0m \u001b[0mNone\u001b[0m\u001b[0;34m:\u001b[0m\u001b[0;34m\u001b[0m\u001b[0m\n",
      "\u001b[0;32m/home/nishidalab/.local/lib/python2.7/site-packages/seaborn/categorical.pyc\u001b[0m in \u001b[0;36m__init__\u001b[0;34m(self, x, y, hue, data, order, hue_order, orient, color, palette, saturation, width, dodge, fliersize, linewidth)\u001b[0m\n\u001b[1;32m    444\u001b[0m                  width, dodge, fliersize, linewidth):\n\u001b[1;32m    445\u001b[0m \u001b[0;34m\u001b[0m\u001b[0m\n\u001b[0;32m--> 446\u001b[0;31m         \u001b[0mself\u001b[0m\u001b[0;34m.\u001b[0m\u001b[0mestablish_variables\u001b[0m\u001b[0;34m(\u001b[0m\u001b[0mx\u001b[0m\u001b[0;34m,\u001b[0m \u001b[0my\u001b[0m\u001b[0;34m,\u001b[0m \u001b[0mhue\u001b[0m\u001b[0;34m,\u001b[0m \u001b[0mdata\u001b[0m\u001b[0;34m,\u001b[0m \u001b[0morient\u001b[0m\u001b[0;34m,\u001b[0m \u001b[0morder\u001b[0m\u001b[0;34m,\u001b[0m \u001b[0mhue_order\u001b[0m\u001b[0;34m)\u001b[0m\u001b[0;34m\u001b[0m\u001b[0m\n\u001b[0m\u001b[1;32m    447\u001b[0m         \u001b[0mself\u001b[0m\u001b[0;34m.\u001b[0m\u001b[0mestablish_colors\u001b[0m\u001b[0;34m(\u001b[0m\u001b[0mcolor\u001b[0m\u001b[0;34m,\u001b[0m \u001b[0mpalette\u001b[0m\u001b[0;34m,\u001b[0m \u001b[0msaturation\u001b[0m\u001b[0;34m)\u001b[0m\u001b[0;34m\u001b[0m\u001b[0m\n\u001b[1;32m    448\u001b[0m \u001b[0;34m\u001b[0m\u001b[0m\n",
      "\u001b[0;32m/home/nishidalab/.local/lib/python2.7/site-packages/seaborn/categorical.pyc\u001b[0m in \u001b[0;36mestablish_variables\u001b[0;34m(self, x, y, hue, data, orient, order, hue_order, units)\u001b[0m\n\u001b[1;32m     46\u001b[0m             \u001b[0;32mif\u001b[0m \u001b[0mhue\u001b[0m \u001b[0;32mis\u001b[0m \u001b[0;32mnot\u001b[0m \u001b[0mNone\u001b[0m\u001b[0;34m:\u001b[0m\u001b[0;34m\u001b[0m\u001b[0m\n\u001b[1;32m     47\u001b[0m                 \u001b[0merror\u001b[0m \u001b[0;34m=\u001b[0m \u001b[0;34m\"Cannot use `hue` without `x` or `y`\"\u001b[0m\u001b[0;34m\u001b[0m\u001b[0m\n\u001b[0;32m---> 48\u001b[0;31m                 \u001b[0;32mraise\u001b[0m \u001b[0mValueError\u001b[0m\u001b[0;34m(\u001b[0m\u001b[0merror\u001b[0m\u001b[0;34m)\u001b[0m\u001b[0;34m\u001b[0m\u001b[0m\n\u001b[0m\u001b[1;32m     49\u001b[0m \u001b[0;34m\u001b[0m\u001b[0m\n\u001b[1;32m     50\u001b[0m             \u001b[0;31m# No hue grouping with wide inputs\u001b[0m\u001b[0;34m\u001b[0m\u001b[0;34m\u001b[0m\u001b[0m\n",
      "\u001b[0;31mValueError\u001b[0m: Cannot use `hue` without `x` or `y`"
     ]
    },
    {
     "data": {
      "image/png": "[encoded data removed]",
      "text/plain": [
       "<Figure size 432x288 with 1 Axes>"
      ]
     },
     "metadata": {
      "needs_background": "light"
     },
     "output_type": "display_data"
    }
   ],
   "source": [
    "fig = plt.figure()\n",
    "ax = fig.add_subplot(1, 1, 1)\n",
    "ax.set_xlabel('Axis')\n",
    "ax.set_ylabel('Degree[mm]')\n",
    "ax.set_ylim(-10, 10)\n",
    "ax.legend()\n",
    "sns.boxplot(data=df_cat, showfliers=False, palette='Dark2', hue=\"value\", ax=ax)"
   ]
  },
  {
   "cell_type": "code",
   "execution_count": null,
   "metadata": {},
   "outputs": [],
   "source": []
  },
  {
   "cell_type": "code",
   "execution_count": null,
   "metadata": {},
   "outputs": [],
   "source": []
  },
  {
   "cell_type": "code",
   "execution_count": null,
   "metadata": {},
   "outputs": [],
   "source": []
  }
 ],
 "metadata": {
  "kernelspec": {
   "display_name": "Python 2",
   "language": "python",
   "name": "python2"
  },
  "language_info": {
   "codemirror_mode": {
    "name": "ipython",
    "version": 2
   },
   "file_extension": ".py",
   "mimetype": "text/x-python",
   "name": "python",
   "nbconvert_exporter": "python",
   "pygments_lexer": "ipython2",
   "version": "2.7.12"
  }
 },
 "nbformat": 4,
 "nbformat_minor": 2
}
